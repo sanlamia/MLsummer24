{
  "nbformat": 4,
  "nbformat_minor": 0,
  "metadata": {
    "colab": {
      "provenance": [],
      "authorship_tag": "ABX9TyOB0fbkbGMuO/4COyxRXF+c",
      "include_colab_link": true
    },
    "kernelspec": {
      "name": "python3",
      "display_name": "Python 3"
    },
    "language_info": {
      "name": "python"
    }
  },
  "cells": [
    {
      "cell_type": "markdown",
      "metadata": {
        "id": "view-in-github",
        "colab_type": "text"
      },
      "source": [
        "<a href=\"https://colab.research.google.com/github/sanlamia/MLsummer24/blob/main/PCA.ipynb\" target=\"_parent\"><img src=\"https://colab.research.google.com/assets/colab-badge.svg\" alt=\"Open In Colab\"/></a>"
      ]
    },
    {
      "cell_type": "code",
      "source": [
        "from sklearn.datasets import fetch_openml\n",
        "\n",
        "# Load Fashion MNIST dataset\n",
        "fashion_mnist = fetch_openml('Fashion-MNIST')\n",
        "\n",
        "# Extract data and labels\n",
        "X = fashion_mnist.data\n",
        "y = fashion_mnist.target.astype(int)\n"
      ],
      "metadata": {
        "colab": {
          "base_uri": "https://localhost:8080/"
        },
        "id": "hrjgTzy3rcYi",
        "outputId": "32a140cb-4003-4adf-b6d0-23f46c36612d"
      },
      "execution_count": 2,
      "outputs": [
        {
          "output_type": "stream",
          "name": "stderr",
          "text": [
            "/usr/local/lib/python3.10/dist-packages/sklearn/datasets/_openml.py:1022: FutureWarning: The default value of `parser` will change from `'liac-arff'` to `'auto'` in 1.4. You can set `parser='auto'` to silence this warning. Therefore, an `ImportError` will be raised from 1.4 if the dataset is dense and pandas is not installed. Note that the pandas parser may return different data types. See the Notes Section in fetch_openml's API doc for details.\n",
            "  warn(\n"
          ]
        }
      ]
    },
    {
      "cell_type": "code",
      "source": [
        "from sklearn.model_selection import train_test_split\n",
        "from sklearn.preprocessing import StandardScaler\n",
        "\n",
        "# Split the data into training and testing sets\n",
        "X_train, X_test, y_train, y_test = train_test_split(X, y, test_size=0.2, random_state=42)\n",
        "\n",
        "# Standardize the data (important for PCA)\n",
        "scaler = StandardScaler()\n",
        "X_train_scaled = scaler.fit_transform(X_train)\n",
        "X_test_scaled = scaler.transform(X_test)\n"
      ],
      "metadata": {
        "id": "-eurIEKPusmv"
      },
      "execution_count": 3,
      "outputs": []
    },
    {
      "cell_type": "code",
      "source": [
        "from sklearn.decomposition import PCA\n",
        "\n",
        "# Apply PCA\n",
        "pca = PCA(n_components=0.95, random_state=42)  # Retain 95% of variance\n",
        "X_train_pca = pca.fit_transform(X_train_scaled)\n",
        "X_test_pca = pca.transform(X_test_scaled)\n"
      ],
      "metadata": {
        "id": "c9NeU3cHusuB"
      },
      "execution_count": 5,
      "outputs": []
    },
    {
      "cell_type": "code",
      "source": [
        "from sklearn.tree import DecisionTreeClassifier\n",
        "from sklearn.ensemble import RandomForestClassifier\n",
        "from sklearn.svm import SVC\n",
        "from sklearn.metrics import accuracy_score\n",
        "\n",
        "# Decision Tree\n",
        "dt = DecisionTreeClassifier(random_state=42)\n",
        "dt.fit(X_train_scaled, y_train)\n",
        "y_pred_dt = dt.predict(X_test_scaled)\n",
        "accuracy_dt = accuracy_score(y_test, y_pred_dt)\n",
        "\n",
        "# Random Forest\n",
        "rf = RandomForestClassifier(random_state=42)\n",
        "rf.fit(X_train_scaled, y_train)\n",
        "y_pred_rf = rf.predict(X_test_scaled)\n",
        "accuracy_rf = accuracy_score(y_test, y_pred_rf)\n",
        "\n",
        "# SVM\n",
        "svm = SVC(random_state=42)\n",
        "svm.fit(X_train_scaled, y_train)\n",
        "y_pred_svm = svm.predict(X_test_scaled)\n",
        "accuracy_svm = accuracy_score(y_test, y_pred_svm)\n"
      ],
      "metadata": {
        "id": "YeDnjG7eusxx"
      },
      "execution_count": 6,
      "outputs": []
    },
    {
      "cell_type": "code",
      "source": [
        "# Decision Tree with PCA\n",
        "dt_pca = DecisionTreeClassifier(random_state=42)\n",
        "dt_pca.fit(X_train_pca, y_train)\n",
        "y_pred_dt_pca = dt_pca.predict(X_test_pca)\n",
        "accuracy_dt_pca = accuracy_score(y_test, y_pred_dt_pca)\n",
        "\n",
        "# Random Forest with PCA\n",
        "rf_pca = RandomForestClassifier(random_state=42)\n",
        "rf_pca.fit(X_train_pca, y_train)\n",
        "y_pred_rf_pca = rf_pca.predict(X_test_pca)\n",
        "accuracy_rf_pca = accuracy_score(y_test, y_pred_rf_pca)\n",
        "\n",
        "# SVM with PCA\n",
        "svm_pca = SVC(random_state=42)\n",
        "svm_pca.fit(X_train_pca, y_train)\n",
        "y_pred_svm_pca = svm_pca.predict(X_test_pca)\n",
        "accuracy_svm_pca = accuracy_score(y_test, y_pred_svm_pca)\n"
      ],
      "metadata": {
        "id": "Z8Pj9JRkus8E"
      },
      "execution_count": 7,
      "outputs": []
    },
    {
      "cell_type": "code",
      "source": [
        "# Compare accuracy of models with and without PCA\n",
        "results = {\n",
        "    \"Model\": [\"Decision Tree\", \"Random Forest\", \"SVM\"],\n",
        "    \"Without PCA\": [accuracy_dt, accuracy_rf, accuracy_svm],\n",
        "    \"With PCA\": [accuracy_dt_pca, accuracy_rf_pca, accuracy_svm_pca]\n",
        "}\n",
        "\n",
        "import pandas as pd\n",
        "results_df = pd.DataFrame(results)\n",
        "print(results_df)\n"
      ],
      "metadata": {
        "colab": {
          "base_uri": "https://localhost:8080/"
        },
        "id": "UwUdgXYzvHB-",
        "outputId": "fb6df60f-7e9f-46e2-d940-9e2b66af7a18"
      },
      "execution_count": 9,
      "outputs": [
        {
          "output_type": "stream",
          "name": "stdout",
          "text": [
            "           Model  Without PCA  With PCA\n",
            "0  Decision Tree     0.793500  0.762643\n",
            "1  Random Forest     0.882714  0.865071\n",
            "2            SVM     0.890500  0.890357\n"
          ]
        }
      ]
    }
  ]
}